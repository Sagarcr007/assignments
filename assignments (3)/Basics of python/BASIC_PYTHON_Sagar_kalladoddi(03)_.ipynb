{
  "nbformat": 4,
  "nbformat_minor": 0,
  "metadata": {
    "colab": {
      "provenance": []
    },
    "kernelspec": {
      "name": "python3",
      "display_name": "Python 3"
    },
    "language_info": {
      "name": "python"
    }
  },
  "cells": [
    {
      "cell_type": "markdown",
      "source": [
        "1: Prime Numbers\n"
      ],
      "metadata": {
        "id": "VCMBbF63AyOr"
      }
    },
    {
      "cell_type": "code",
      "execution_count": 1,
      "metadata": {
        "colab": {
          "base_uri": "https://localhost:8080/"
        },
        "id": "1LVNvESm83jB",
        "outputId": "7e723a10-fd2e-453e-b428-537b986c6c38"
      },
      "outputs": [
        {
          "output_type": "stream",
          "name": "stdout",
          "text": [
            "Enter a number: 4\n",
            "4 is not a prime number\n"
          ]
        }
      ],
      "source": [
        "pm=int(input(\"Enter a number: \"))\n",
        "if pm<1:\n",
        "    print(\"Invalid input\")\n",
        "elif pm>2:\n",
        "    for i in range(2,pm):\n",
        "        if pm%i==0:\n",
        "            print(f\"{pm} is not a prime number\")\n",
        "            break\n",
        "    else:\n",
        "        print(f\"{pm} is a prime number\")\n",
        "else:\n",
        "    print(\"2 is the only even prime number\")"
      ]
    },
    {
      "cell_type": "markdown",
      "source": [
        "2: Product of Random Numbers"
      ],
      "metadata": {
        "id": "kf7moogEHi1G"
      }
    },
    {
      "cell_type": "code",
      "source": [
        "import random"
      ],
      "metadata": {
        "id": "nVnLCQnXHgAa"
      },
      "execution_count": 2,
      "outputs": []
    },
    {
      "cell_type": "code",
      "source": [
        "def generate_numbers():\n",
        "  rm1=random.randint(1,10)\n",
        "  rm2=random.randint(1,10)\n",
        "  return rm1,rm2\n",
        "\n",
        "def main():\n",
        "  rm1,rm2=generate_numbers()\n",
        "  product=rm1*rm2\n",
        "  User_answer=int(input(f\"What is  product of{rm1} and {rm2}? \"))\n",
        "  if User_answer==product:\n",
        "    print(\"Correct\")\n",
        "  else:\n",
        "    print(f\"Incorrect, the answer is {product}\")\n",
        "\n",
        "if __name__==\"__main__\":\n",
        "  main()\n"
      ],
      "metadata": {
        "id": "YGZdomK4HgDR",
        "colab": {
          "base_uri": "https://localhost:8080/"
        },
        "outputId": "f2dd813a-6132-4049-c3cf-f870fd3c623b"
      },
      "execution_count": 3,
      "outputs": [
        {
          "output_type": "stream",
          "name": "stdout",
          "text": [
            "What is  product of10 and 3? 30\n",
            "Correct\n"
          ]
        }
      ]
    },
    {
      "cell_type": "markdown",
      "source": [
        "3: Squares of Even/Odd Numbers"
      ],
      "metadata": {
        "id": "FDjweoe8Uc_M"
      }
    },
    {
      "cell_type": "code",
      "source": [
        "print('the squares of all even  numbers within the range of 100 to 200')\n",
        "for en in range(100,201):\n",
        "  if en%2==0:\n",
        "    print(f'the  square of  {en} is {en**2}')\n",
        "print('the squares of all odd  numbers within the range of 100 to 200')\n",
        "for on in range(100,201):\n",
        "  if on%2!=0:\n",
        "    print(f'the sqquare of{on} is {on**2}')"
      ],
      "metadata": {
        "colab": {
          "base_uri": "https://localhost:8080/"
        },
        "id": "xc5DtYxBW6p3",
        "outputId": "b3ef89d3-0123-4aec-de94-6f21b47b6e5d"
      },
      "execution_count": 4,
      "outputs": [
        {
          "output_type": "stream",
          "name": "stdout",
          "text": [
            "the squares of all even  numbers within the range of 100 to 200\n",
            "the  square of  100 is 10000\n",
            "the  square of  102 is 10404\n",
            "the  square of  104 is 10816\n",
            "the  square of  106 is 11236\n",
            "the  square of  108 is 11664\n",
            "the  square of  110 is 12100\n",
            "the  square of  112 is 12544\n",
            "the  square of  114 is 12996\n",
            "the  square of  116 is 13456\n",
            "the  square of  118 is 13924\n",
            "the  square of  120 is 14400\n",
            "the  square of  122 is 14884\n",
            "the  square of  124 is 15376\n",
            "the  square of  126 is 15876\n",
            "the  square of  128 is 16384\n",
            "the  square of  130 is 16900\n",
            "the  square of  132 is 17424\n",
            "the  square of  134 is 17956\n",
            "the  square of  136 is 18496\n",
            "the  square of  138 is 19044\n",
            "the  square of  140 is 19600\n",
            "the  square of  142 is 20164\n",
            "the  square of  144 is 20736\n",
            "the  square of  146 is 21316\n",
            "the  square of  148 is 21904\n",
            "the  square of  150 is 22500\n",
            "the  square of  152 is 23104\n",
            "the  square of  154 is 23716\n",
            "the  square of  156 is 24336\n",
            "the  square of  158 is 24964\n",
            "the  square of  160 is 25600\n",
            "the  square of  162 is 26244\n",
            "the  square of  164 is 26896\n",
            "the  square of  166 is 27556\n",
            "the  square of  168 is 28224\n",
            "the  square of  170 is 28900\n",
            "the  square of  172 is 29584\n",
            "the  square of  174 is 30276\n",
            "the  square of  176 is 30976\n",
            "the  square of  178 is 31684\n",
            "the  square of  180 is 32400\n",
            "the  square of  182 is 33124\n",
            "the  square of  184 is 33856\n",
            "the  square of  186 is 34596\n",
            "the  square of  188 is 35344\n",
            "the  square of  190 is 36100\n",
            "the  square of  192 is 36864\n",
            "the  square of  194 is 37636\n",
            "the  square of  196 is 38416\n",
            "the  square of  198 is 39204\n",
            "the  square of  200 is 40000\n",
            "the squares of all odd  numbers within the range of 100 to 200\n",
            "the sqquare of101 is 10201\n",
            "the sqquare of103 is 10609\n",
            "the sqquare of105 is 11025\n",
            "the sqquare of107 is 11449\n",
            "the sqquare of109 is 11881\n",
            "the sqquare of111 is 12321\n",
            "the sqquare of113 is 12769\n",
            "the sqquare of115 is 13225\n",
            "the sqquare of117 is 13689\n",
            "the sqquare of119 is 14161\n",
            "the sqquare of121 is 14641\n",
            "the sqquare of123 is 15129\n",
            "the sqquare of125 is 15625\n",
            "the sqquare of127 is 16129\n",
            "the sqquare of129 is 16641\n",
            "the sqquare of131 is 17161\n",
            "the sqquare of133 is 17689\n",
            "the sqquare of135 is 18225\n",
            "the sqquare of137 is 18769\n",
            "the sqquare of139 is 19321\n",
            "the sqquare of141 is 19881\n",
            "the sqquare of143 is 20449\n",
            "the sqquare of145 is 21025\n",
            "the sqquare of147 is 21609\n",
            "the sqquare of149 is 22201\n",
            "the sqquare of151 is 22801\n",
            "the sqquare of153 is 23409\n",
            "the sqquare of155 is 24025\n",
            "the sqquare of157 is 24649\n",
            "the sqquare of159 is 25281\n",
            "the sqquare of161 is 25921\n",
            "the sqquare of163 is 26569\n",
            "the sqquare of165 is 27225\n",
            "the sqquare of167 is 27889\n",
            "the sqquare of169 is 28561\n",
            "the sqquare of171 is 29241\n",
            "the sqquare of173 is 29929\n",
            "the sqquare of175 is 30625\n",
            "the sqquare of177 is 31329\n",
            "the sqquare of179 is 32041\n",
            "the sqquare of181 is 32761\n",
            "the sqquare of183 is 33489\n",
            "the sqquare of185 is 34225\n",
            "the sqquare of187 is 34969\n",
            "the sqquare of189 is 35721\n",
            "the sqquare of191 is 36481\n",
            "the sqquare of193 is 37249\n",
            "the sqquare of195 is 38025\n",
            "the sqquare of197 is 38809\n",
            "the sqquare of199 is 39601\n"
          ]
        }
      ]
    },
    {
      "cell_type": "markdown",
      "source": [
        "4: Word counter"
      ],
      "metadata": {
        "id": "NzVL59lEZgAl"
      }
    },
    {
      "cell_type": "code",
      "source": [
        "def word_counter(text):\n",
        "  # Split the text into words\n",
        "  words=text.split()\n",
        "  # Create a dictionary to store word counts\n",
        "  word_counts={}\n",
        "  # Count the occurrences of each word\n",
        "  for word in words:\n",
        "    # Remove any punctuation from the word\n",
        "\n",
        "    word=word.strip('.,!?\"')\n",
        "    # Convert the word to lowercase\n",
        "    word=word.lower()\n",
        "    # Update the word count in the dictionary\n",
        "    word_counts[word]=word_counts.get(word,0)+1\n",
        "  return word_counts\n",
        "  # Example usage\n",
        "input_text= \"This is a sample text. This text will be used to demonstrate the word counter.\"\n",
        "count=word_counter(input_text)\n",
        "# Print the word counts\n",
        "for word,count in count.items():\n",
        "  print(f'{word}:{count}')"
      ],
      "metadata": {
        "colab": {
          "base_uri": "https://localhost:8080/"
        },
        "id": "lTt6WTnvTlo2",
        "outputId": "5c24df65-3e5a-493c-c85d-9bb271b52d6b"
      },
      "execution_count": 30,
      "outputs": [
        {
          "output_type": "stream",
          "name": "stdout",
          "text": [
            "this:2\n",
            "is:1\n",
            "a:1\n",
            "sample:1\n",
            "text:2\n",
            "will:1\n",
            "be:1\n",
            "used:1\n",
            "to:1\n",
            "demonstrate:1\n",
            "the:1\n",
            "word:1\n",
            "counter:1\n"
          ]
        }
      ]
    },
    {
      "cell_type": "markdown",
      "source": [
        "5: Check for Palindrome"
      ],
      "metadata": {
        "id": "VpJc-pyJWiWC"
      }
    },
    {
      "cell_type": "code",
      "source": [
        "text=(input(\"Enter a word or numbres: \"))\n",
        "if (text==text[::-1]):\n",
        "  print(f\"{text} is a palindrome\")\n",
        "else:\n",
        "  print(f\"{text} is not a palindrome\")\n"
      ],
      "metadata": {
        "colab": {
          "base_uri": "https://localhost:8080/"
        },
        "id": "Ap_rLp-_bvqb",
        "outputId": "2b5024ff-5e87-44ed-c5c8-fbe378860b68"
      },
      "execution_count": 35,
      "outputs": [
        {
          "output_type": "stream",
          "name": "stdout",
          "text": [
            "Enter a word or numbres: malayalam\n",
            "malayalam is a palindrome\n"
          ]
        }
      ]
    }
  ]
}